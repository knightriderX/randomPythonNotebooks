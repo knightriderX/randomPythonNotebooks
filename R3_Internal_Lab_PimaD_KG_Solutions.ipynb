{
  "nbformat": 4,
  "nbformat_minor": 0,
  "metadata": {
    "colab": {
      "name": "R3-Internal Lab-PimaD_KG_Solutions.ipynb",
      "provenance": [],
      "toc_visible": true
    },
    "kernelspec": {
      "name": "python3",
      "display_name": "Python 3"
    }
  },
  "cells": [
    {
      "cell_type": "markdown",
      "metadata": {
        "id": "YPUGfjBdSodb",
        "colab_type": "text"
      },
      "source": [
        "# Problem Statement"
      ]
    },
    {
      "cell_type": "markdown",
      "metadata": {
        "id": "JRYCLnJlSynG",
        "colab_type": "text"
      },
      "source": [
        "<html> <font color = DarkBlue>\n",
        "The purpose is to predict whether the Pima Indian women shows signs of diabetes or not. We are using a dataset collected by \"National Institute of Diabetes and Digestive and Kidney Diseases\" which consists of a number of attributes which would help us to perform this prediction. A brief description of the attributes is given here below: \n",
        "    \n",
        "<br> Preg: Number of times pregnant\n",
        "<br> Plas: Plasma glucose concentration a 2 hours in an oral glucose tolerance test\n",
        "<br> Pres: Diastolic blood pressure (mm Hg)\n",
        "<br> skin: Triceps skin fold thickness (mm)\n",
        "<br> test: 2-Hour serum insulin (mu U/ml)\n",
        "<br> mass: Body mass index (weight in kg/(height in m)^2)\n",
        "<br> pedi: Diabetes pedigree function\n",
        "<br> age: Age (years)\n",
        "<br> class: Class variable (0 or 1)\n",
        "\n",
        "</font>\n",
        "</html>"
      ]
    },
    {
      "cell_type": "markdown",
      "metadata": {
        "id": "konNid-5TBQk",
        "colab_type": "text"
      },
      "source": [
        "<html>\n",
        "<font color = Darkblue>\n",
        "<b>Constraints on data collection </b>\n",
        "\n",
        "</font>\n",
        "</html>"
      ]
    },
    {
      "cell_type": "markdown",
      "metadata": {
        "id": "-02sqIZ_TIYZ",
        "colab_type": "text"
      },
      "source": [
        "<html> <font color = DarkBlue>\n",
        "All patients whose data has been collected are females at least 21 years old of Pima Indian heritage\n",
        "</font>\n",
        "</html>"
      ]
    },
    {
      "cell_type": "code",
      "metadata": {
        "id": "SuCWTdHtTCFz",
        "colab_type": "code",
        "colab": {}
      },
      "source": [
        "#Import all the necessary modules\n",
        "import numpy as np\n",
        "import pandas as pd\n",
        "\n",
        "\n",
        "#importing ploting libraries\n",
        "import matplotlib.pyplot as plt   \n",
        "\n",
        "#importing seaborn for statistical plots\n",
        "import seaborn as sns\n",
        "\n",
        "\n",
        "from sklearn.model_selection import train_test_split\n",
        "from sklearn.tree import DecisionTreeClassifier\n",
        "\n",
        "from IPython.display import Image\n",
        "\n",
        "# calculate accuracy measures and confusion matrix\n",
        "from sklearn import metrics"
      ],
      "execution_count": 0,
      "outputs": []
    },
    {
      "cell_type": "markdown",
      "metadata": {
        "id": "BKMGLYHkUPZv",
        "colab_type": "text"
      },
      "source": [
        "# Q1. Load the PIMA Indian Diabetes file into Python DataFrame. "
      ]
    },
    {
      "cell_type": "code",
      "metadata": {
        "id": "d82uJU-LURCm",
        "colab_type": "code",
        "colab": {}
      },
      "source": [
        "# DataLocated\n",
        "url = \"https://raw.githubusercontent.com/knightriderX/randomPythonNotebooks/master/pima-indians-diabetes.data\""
      ],
      "execution_count": 0,
      "outputs": []
    },
    {
      "cell_type": "code",
      "metadata": {
        "id": "yIVmns0sXnTA",
        "colab_type": "code",
        "colab": {}
      },
      "source": [
        ""
      ],
      "execution_count": 0,
      "outputs": []
    }
  ]
}